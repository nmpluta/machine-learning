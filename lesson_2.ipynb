{
 "cells": [
  {
   "cell_type": "markdown",
   "metadata": {},
   "source": [
    "# **Simple DNN 2 - Binary classification, Hyperparameters, Callbacks**  \n",
    "## **Part 1 Binary classification problem**  \n",
    "Two-class classification, or binary classification, may be the most widely applied kind of machine learning problem. The aim of this lab is to classify movie reviews into “positive” reviews and “negative” reviews, just based on the text content of the reviews."
   ]
  },
  {
   "cell_type": "markdown",
   "metadata": {},
   "source": [
    "### **The IMDB dataset**  \n",
    "We'll be working with the “IMDB dataset”, a set of 50,000 highly-polarized reviews from the Internet Movie Database. They are split into 25,000 reviews for training and 25,000 reviews for testing, each set consisting of 50% negative and 50% positive reviews. Just like the MNIST dataset, the IMDB dataset comes packaged with Keras. It has already been preprocessed: the reviews (sequences of words) have been turned into sequences of integers, where each integer stands for a specific word in a dictionary.\n",
    "Please load the dataset from Keras (when you run it for the first time, about 80MB of data will be downloaded to your machine):"
   ]
  },
  {
   "cell_type": "code",
   "execution_count": 15,
   "metadata": {},
   "outputs": [],
   "source": [
    "from tensorflow.keras.datasets import imdb\n",
    "\n",
    "# The argument num_words=10000 means that we will only keep the top 10,000 most frequently occurring words \n",
    "# in the training data. Rare words will be discarded. This allows us to work with vector data of manageable size.\n",
    "(train_data, train_labels), (test_data, test_labels) = imdb.load_data(num_words=10000)"
   ]
  },
  {
   "cell_type": "markdown",
   "metadata": {},
   "source": [
    "### **Preparing the data**  \n",
    "We cannot feed lists of integers into a neural network. We have to turn our lists into tensors. There are two ways we could do that:\n",
    "- We could pad our lists so that they all have the same length, and turn them into an integer tensor of shape (samples, word_indices), then use as the first layer in our network a layer capable of handling such integer tensors (the Embedding layer, which we will cover in detail later in the book).\n",
    "- We could one-hot-encode our lists to turn them into vectors of 0s and 1s. Concretely, this would mean for instance turning the sequence [3, 5] into a 10,000-dimensional vector that would be all-zeros except for indices 3 and 5, which would be ones. Then we could use as the first layer in our network a Dense layer, capable of handling floating-point vector data."
   ]
  },
  {
   "cell_type": "code",
   "execution_count": 16,
   "metadata": {},
   "outputs": [],
   "source": [
    "dimension = 10000"
   ]
  },
  {
   "cell_type": "code",
   "execution_count": 17,
   "metadata": {},
   "outputs": [],
   "source": [
    "# Implementation of the second solution.\n",
    "import numpy as np\n",
    " \n",
    "def vectorize_sequences(sequences, dimension=10000):\n",
    "    results = np.zeros((len(sequences), dimension))  # Create an all-zero matrix of shape (len(sequences), dimension)\n",
    "    for i, sequence in enumerate(sequences):\n",
    "        results[i, sequence] = 1.  # set specific indices of results[i] to 1s\n",
    "    return results\n",
    " \n",
    "x_train = vectorize_sequences(train_data)\n",
    "x_test = vectorize_sequences(test_data)\n",
    "y_train = np.asarray(train_labels).astype('float32')\n",
    "y_test = np.asarray(test_labels).astype('float32')"
   ]
  },
  {
   "cell_type": "markdown",
   "metadata": {},
   "source": [
    "### **Network architecture**  \n",
    "Based on the previous ex. please implement a deep network architecture shown in the following Figure:  \n",
    "![network_architecture](images/lesson_2_network_architecture.png)\n",
    "\n",
    "I propose the following architecture choice:\n",
    "- Two intermediate layers with 16 hidden units each, and a third layer which will output the scalar prediction regarding the sentiment of the current review.\n",
    "- The intermediate layers will use relu as their “activation function”, and the final layer will use a sigmoid activation so as to output a probability (a score between 0 and 1, indicating how likely the sample is to have the target “1”, i.e. how likely the review is to be positive).\n",
    "- A relu (rectified linear unit) is a function meant to zero-out negative values, while a sigmoid “squashes” arbitrary values into the [0, 1] interval, thus outputting something that can be interpreted as a probability.\n"
   ]
  },
  {
   "cell_type": "code",
   "execution_count": 18,
   "metadata": {},
   "outputs": [],
   "source": [
    "import tensorflow as tf\n",
    "#TODO: Implement the architecture\n",
    "layers = [\n",
    "    tf.keras.layers.Dense(16, activation='relu', input_shape=(dimension,)),\n",
    "    tf.keras.layers.Dense(16, activation='relu'),\n",
    "    tf.keras.layers.Dense(1, activation='sigmoid')\n",
    "]"
   ]
  },
  {
   "cell_type": "markdown",
   "metadata": {},
   "source": [
    "### **Network training**  \n",
    "Since we are facing a binary classification problem and the output of our network is a probability (we end our network with a single-unit layer with a sigmoid activation), is it best to use the `binary_crossentropy` loss. It isn't the only viable choice: you could use, for instance, mean_squared_error. But crossentropy is usually the best choice when you are dealing with models that output probabilities. Crossentropy is a quantity from the field of Information Theory, that measures the “distance” between probability distributions, or in our case, between the ground-truth distribution and our predictions.\n",
    "\n",
    "To configure the model please use the following parameters:\n",
    "- rmsprop optimizer\n",
    "- binary_crossentropy loss function\n",
    "- accuracy metric"
   ]
  },
  {
   "cell_type": "code",
   "execution_count": 19,
   "metadata": {},
   "outputs": [],
   "source": [
    "#TODO: Compile the model\n",
    "model = tf.keras.Sequential(layers)\n",
    "model.compile(optimizer='rmsprop', loss='binary_crossentropy', metrics=['accuracy'])"
   ]
  },
  {
   "cell_type": "markdown",
   "metadata": {},
   "source": [
    "### **Validation**  \n",
    "In order to monitor during training the accuracy of the model on data that it has never seen before, we will create a “validation set” by setting apart 10,000 samples from the original data (suggested split: 25000 train, 10000 validation, 15000 test). You can do it manually or use `train_test_split` from `sklearn` library:"
   ]
  },
  {
   "cell_type": "code",
   "execution_count": 20,
   "metadata": {},
   "outputs": [
    {
     "name": "stdout",
     "output_type": "stream",
     "text": [
      "25000\n",
      "[TRAIN] Data size: 25000, Label size: 25000\n",
      "[VALIDATION] Data size: 10000, Label size: 10000\n",
      "[TEST] Data size: 15000, Label size: 15000\n"
     ]
    }
   ],
   "source": [
    "import sklearn\n",
    "from sklearn.model_selection import train_test_split\n",
    "\n",
    "test_data_size = 15000\n",
    "x_data_size = len(x_test)\n",
    "print(x_data_size)\n",
    "test_size = test_data_size/x_data_size\n",
    "\n",
    "#TODO: please divide the dataset according to the description above\n",
    "x_val, x_test, y_val, y_test = train_test_split(x_test,\n",
    "                                                y_test,\n",
    "                                                test_size=test_size,\n",
    "                                                random_state=42)\n",
    "\n",
    "# Print the size of the training, validation, and test sets\n",
    "print(\"[TRAIN] Data size: %d, Label size: %d\" % (len(x_train), len(y_train)))\n",
    "print(\"[VALIDATION] Data size: %d, Label size: %d\" % (len(x_val), len(y_val)))\n",
    "print(\"[TEST] Data size: %d, Label size: %d\" % (len(x_test), len(y_test)))"
   ]
  },
  {
   "cell_type": "markdown",
   "metadata": {},
   "source": [
    "Train the model with following parameters:\n",
    "- x_train, y_train -remained\n",
    "- epochs - 20\n",
    "- batch_size - 512\n",
    "- validation_data=(x_val, y_val)"
   ]
  },
  {
   "cell_type": "code",
   "execution_count": 21,
   "metadata": {},
   "outputs": [
    {
     "name": "stdout",
     "output_type": "stream",
     "text": [
      "Epoch 1/20\n"
     ]
    },
    {
     "name": "stderr",
     "output_type": "stream",
     "text": [
      "2023-10-22 20:38:07.687183: W tensorflow/tsl/framework/cpu_allocator_impl.cc:83] Allocation of 1000000000 exceeds 10% of free system memory.\n"
     ]
    },
    {
     "name": "stdout",
     "output_type": "stream",
     "text": [
      "49/49 [==============================] - 1s 20ms/step - loss: 0.4870 - accuracy: 0.8045 - val_loss: 0.3617 - val_accuracy: 0.8750\n",
      "Epoch 2/20\n",
      "49/49 [==============================] - 0s 10ms/step - loss: 0.2850 - accuracy: 0.9004 - val_loss: 0.2974 - val_accuracy: 0.8851\n",
      "Epoch 3/20\n",
      "49/49 [==============================] - 0s 10ms/step - loss: 0.2178 - accuracy: 0.9225 - val_loss: 0.2889 - val_accuracy: 0.8862\n",
      "Epoch 4/20\n",
      "49/49 [==============================] - 1s 11ms/step - loss: 0.1835 - accuracy: 0.9345 - val_loss: 0.2934 - val_accuracy: 0.8856\n",
      "Epoch 5/20\n",
      "49/49 [==============================] - 1s 11ms/step - loss: 0.1592 - accuracy: 0.9425 - val_loss: 0.3410 - val_accuracy: 0.8698\n",
      "Epoch 6/20\n",
      "49/49 [==============================] - 1s 11ms/step - loss: 0.1418 - accuracy: 0.9506 - val_loss: 0.3239 - val_accuracy: 0.8791\n",
      "Epoch 7/20\n",
      "49/49 [==============================] - 1s 10ms/step - loss: 0.1274 - accuracy: 0.9564 - val_loss: 0.3461 - val_accuracy: 0.8729\n",
      "Epoch 8/20\n",
      "49/49 [==============================] - 0s 10ms/step - loss: 0.1099 - accuracy: 0.9634 - val_loss: 0.3674 - val_accuracy: 0.8724\n",
      "Epoch 9/20\n",
      "49/49 [==============================] - 0s 10ms/step - loss: 0.1018 - accuracy: 0.9663 - val_loss: 0.3933 - val_accuracy: 0.8693\n",
      "Epoch 10/20\n",
      "49/49 [==============================] - 1s 11ms/step - loss: 0.0876 - accuracy: 0.9719 - val_loss: 0.4097 - val_accuracy: 0.8685\n",
      "Epoch 11/20\n",
      "49/49 [==============================] - 1s 13ms/step - loss: 0.0795 - accuracy: 0.9742 - val_loss: 0.4433 - val_accuracy: 0.8668\n",
      "Epoch 12/20\n",
      "49/49 [==============================] - 1s 10ms/step - loss: 0.0716 - accuracy: 0.9777 - val_loss: 0.4834 - val_accuracy: 0.8640\n",
      "Epoch 13/20\n",
      "49/49 [==============================] - 0s 10ms/step - loss: 0.0619 - accuracy: 0.9809 - val_loss: 0.4866 - val_accuracy: 0.8642\n",
      "Epoch 14/20\n",
      "49/49 [==============================] - 0s 10ms/step - loss: 0.0542 - accuracy: 0.9848 - val_loss: 0.5507 - val_accuracy: 0.8586\n",
      "Epoch 15/20\n",
      "49/49 [==============================] - 0s 10ms/step - loss: 0.0496 - accuracy: 0.9856 - val_loss: 0.5459 - val_accuracy: 0.8535\n",
      "Epoch 16/20\n",
      "49/49 [==============================] - 0s 10ms/step - loss: 0.0401 - accuracy: 0.9898 - val_loss: 0.5700 - val_accuracy: 0.8612\n",
      "Epoch 17/20\n",
      "49/49 [==============================] - 1s 11ms/step - loss: 0.0366 - accuracy: 0.9903 - val_loss: 0.5865 - val_accuracy: 0.8584\n",
      "Epoch 18/20\n",
      "49/49 [==============================] - 0s 10ms/step - loss: 0.0295 - accuracy: 0.9928 - val_loss: 0.6483 - val_accuracy: 0.8579\n",
      "Epoch 19/20\n",
      "49/49 [==============================] - 0s 10ms/step - loss: 0.0284 - accuracy: 0.9928 - val_loss: 0.6390 - val_accuracy: 0.8573\n",
      "Epoch 20/20\n",
      "49/49 [==============================] - 0s 10ms/step - loss: 0.0225 - accuracy: 0.9943 - val_loss: 0.6627 - val_accuracy: 0.8581\n"
     ]
    }
   ],
   "source": [
    "#TODO: Train the model\n",
    "history = model.fit(x_train, y_train, epochs=20, batch_size=512, validation_data=(x_val, y_val))"
   ]
  },
  {
   "cell_type": "markdown",
   "metadata": {},
   "source": [
    "The network should achieve acc: 0.9998 and val_acc: 0.8683.\n",
    "\n",
    "The history = model.fit() returns a History object. This object has a member history, which is a dictionary containing data about everything that happened during training.  \n",
    "Let's take a look at it:"
   ]
  },
  {
   "cell_type": "code",
   "execution_count": 22,
   "metadata": {},
   "outputs": [
    {
     "data": {
      "text/plain": [
       "dict_keys(['loss', 'accuracy', 'val_loss', 'val_accuracy'])"
      ]
     },
     "execution_count": 22,
     "metadata": {},
     "output_type": "execute_result"
    }
   ],
   "source": [
    "history_dict = history.history\n",
    "history_dict.keys()"
   ]
  },
  {
   "cell_type": "markdown",
   "metadata": {},
   "source": [
    "It contains 4 entries: one per metric that was being monitored, during training and during validation. Please use Matplotlib to plot the training and validation loss side by side, as well as the training and validation accuracy."
   ]
  },
  {
   "cell_type": "code",
   "execution_count": 23,
   "metadata": {},
   "outputs": [
    {
     "data": {
      "image/png": "[encoded data removed]",
      "text/plain": [
       "<Figure size 640x480 with 1 Axes>"
      ]
     },
     "metadata": {},
     "output_type": "display_data"
    },
    {
     "data": {
      "image/png": "[encoded data removed]",
      "text/plain": [
       "<Figure size 640x480 with 1 Axes>"
      ]
     },
     "metadata": {},
     "output_type": "display_data"
    }
   ],
   "source": [
    "#TODO: plot\n",
    "import matplotlib.pyplot as plt\n",
    "\n",
    "def plot_metric(history_dict, metric):\n",
    "    plt.clf()  # clear figure\n",
    "    loss_values = history_dict[metric]\n",
    "    val_loss_values = history_dict[f'val_{metric}']\n",
    "    epochs = range(1, len(loss_values) + 1)\n",
    "    plt.plot(epochs, loss_values, 'go', label=f'Training {metric}')\n",
    "    plt.plot(epochs, val_loss_values, 'bo', label=f'Validation {metric}')\n",
    "    plt.title(f'Training and validation {metric}')\n",
    "    plt.xlabel('Epochs')\n",
    "    plt.ylabel(metric)\n",
    "    plt.legend()\n",
    "    plt.show()\n",
    "\n",
    "plot_metric(history_dict, 'loss')\n",
    "plot_metric(history_dict, 'accuracy')"
   ]
  },
  {
   "cell_type": "markdown",
   "metadata": {},
   "source": [
    "As you can see, the training loss decreases with every epoch, and the training accuracy increases with every epoch. In precise terms, what you are seeing is “overfitting”: after the second epoch, we are over-optimizing on the training data, and we ended up learning representations that are specific to the training data and do not generalize to data outside of the training set.  \n",
    "Please check how that model performs on the test set too!!"
   ]
  },
  {
   "cell_type": "code",
   "execution_count": 24,
   "metadata": {},
   "outputs": [
    {
     "name": "stdout",
     "output_type": "stream",
     "text": [
      " 74/469 [===>..........................] - ETA: 0s - loss: 0.6259 - accuracy: 0.8657"
     ]
    },
    {
     "name": "stderr",
     "output_type": "stream",
     "text": [
      "2023-10-22 20:38:21.302667: W tensorflow/tsl/framework/cpu_allocator_impl.cc:83] Allocation of 600000000 exceeds 10% of free system memory.\n"
     ]
    },
    {
     "name": "stdout",
     "output_type": "stream",
     "text": [
      "469/469 [==============================] - 1s 2ms/step - loss: 0.6223 - accuracy: 0.8582\n",
      "Test accuracy: 0.8582000136375427\n",
      "Test loss: 0.6222816109657288\n"
     ]
    }
   ],
   "source": [
    "#TODO: evaluate the results on the test set\n",
    "test_loss, test_acc = model.evaluate(x_test, y_test)\n",
    "print(f'Test accuracy: {test_acc}')\n",
    "print(f'Test loss: {test_loss}')"
   ]
  },
  {
   "cell_type": "markdown",
   "metadata": {},
   "source": [
    "## **Part 2 Hyperparameters**  \n",
    "As we stated before, there is no ideal solution to each deep learning task. To decide how many layers to add or which activation functions use you need practice and usually a lot of trials and errors. Some people even say that implementing a neural network from scratch is more art than science.\n",
    "\n",
    "### **Parameter optimisation**\n",
    "Even then, after you decide what your model will look like, there is a matter of training, which also requires additional parameters. These numbers, that you already encountered, like a number of epochs, learning rate or optimizer are called hyperparameters. Training a neural network is basically an optimization problem, so you can think of setting those parameters as optimizing an optimization. It's not an easy task. There are, however, some tools that can help with that.\n",
    "\n",
    "### **Callbacks**\n",
    "One of the simplest methods helpful in parameter selection is using Callbacks. These are basic functions that let you act on the model during training. They allow you to interrupt training to save a model, load a different weight set, or otherwise alter the state of the model. Here are some examples of ways you can use callbacks:\n",
    "* Model checkpointing—saving the current weights of the model at different points during training.\n",
    "* Early stopping—interrupting training when the validation loss is no longer improving (and of course, saving the best model obtained during training).\n",
    "* Dynamically adjusting the value of certain parameters during training — such as the learning rate of the optimizer.\n",
    "* Logging training and validation metrics during training, or visualizing the representations learned by the model as they’re updated.\n",
    "\n",
    "There are many default methods that you can explore in `keras.callbacks` such as `ModelCheckpoint`, `EarlyStopping` or `LearningRateScheduler`. However, one of the most useful things is that you can define your own callback and pass it to the model. So first, check if the desired functionality is available in Keras and if it isn't write it yourself.  \n",
    "\n",
    "To do so, you can use functions that trigger when certain action occurs:\n",
    "* `on_epoch_begin`\n",
    "* `on_epoch_end`\n",
    "* `on_batch_begin`\n",
    "* `on_batch_end`\n",
    "* `on_train_begin`\n",
    "* `on_train_end`\n",
    "\n",
    "You can define function behavior after the trigger. In an example below, we check after each epoch if the training accuracy reaches a certain threshold (in this case 90%). If it does, we stop training. This is a useful method to decide on a number of epochs and avoid overfitting. You can read more about callbacks in [Keras Callbacks Documentation](https://keras.io/api/callbacks/).  \n",
    "\n",
    "First, you need to define a callback class:"
   ]
  },
  {
   "cell_type": "code",
   "execution_count": 25,
   "metadata": {},
   "outputs": [],
   "source": [
    "import tensorflow as tf\n",
    " \n",
    "class myCallback(tf.keras.callbacks.Callback):\n",
    "  def on_epoch_end(self, epoch, logs={}):\n",
    "    if(logs.get('accuracy')>0.9):\n",
    "      print(\"\\nReached 90% accuracy so cancelling training!\")\n",
    "      self.model.stop_training = True"
   ]
  },
  {
   "cell_type": "markdown",
   "metadata": {},
   "source": [
    "Then create a callback instance and pass it as an argument when using `.fit()`:"
   ]
  },
  {
   "cell_type": "code",
   "execution_count": 26,
   "metadata": {},
   "outputs": [
    {
     "name": "stdout",
     "output_type": "stream",
     "text": [
      "Epoch 1/10\n",
      " 48/782 [>.............................] - ETA: 1s - loss: 0.0197 - accuracy: 0.9935"
     ]
    },
    {
     "name": "stderr",
     "output_type": "stream",
     "text": [
      "2023-10-22 20:38:24.552197: W tensorflow/tsl/framework/cpu_allocator_impl.cc:83] Allocation of 1000000000 exceeds 10% of free system memory.\n"
     ]
    },
    {
     "name": "stdout",
     "output_type": "stream",
     "text": [
      "777/782 [============================>.] - ETA: 0s - loss: 0.0369 - accuracy: 0.9869\n",
      "Reached 90% accuracy so cancelling training!\n",
      "782/782 [==============================] - 2s 2ms/step - loss: 0.0370 - accuracy: 0.9868\n"
     ]
    },
    {
     "data": {
      "text/plain": [
       "<keras.src.callbacks.History at 0x7fe5112a35b0>"
      ]
     },
     "execution_count": 26,
     "metadata": {},
     "output_type": "execute_result"
    }
   ],
   "source": [
    "callbacks = myCallback()\n",
    " \n",
    "model.fit(x_train, y_train, epochs=10, callbacks=[callbacks])"
   ]
  },
  {
   "cell_type": "markdown",
   "metadata": {},
   "source": [
    "### Task\n",
    "Your **task** is to use it on a mnist classification (lab 1) or imdb (lab 2). You can change parameters or callback behaviour as you wish, as long as it succeeds to stop training earlier."
   ]
  },
  {
   "cell_type": "markdown",
   "metadata": {},
   "source": [
    "### **Optimisation algorithms from sklearn**\n",
    "There are various algorithms that automatically set different parameters, run training, and repeat the process. For example, the `Scikit-Learn` library provides [Grid Search Method](https://scikit-learn.org/stable/modules/generated/sklearn.model_selection.GridSearchCV.html) or [Random Search Method](https://scikit-learn.org/stable/modules/generated/sklearn.model_selection.RandomizedSearchCV.html). You can read more about them in the documentation. More sophisticated methods, like genetic algorithms or particle swarm optimization, are sometimes used too.\n",
    "\n",
    "Your last task this week is to use `Grid Search Optimisation` algorithm to optimise one of the networks from previous weeks. Choose two parameters (for example number of epochs and batch size) and try two different values for each parameter. `Grid Search` method will therefore create a mesh of these parameters, with four elements (2×2). This process will take more time and computation power, as it will basically train the model four times and compare results. If you don't have a good computer it is best to try it on simple mnist or imdb classification."
   ]
  },
  {
   "cell_type": "code",
   "execution_count": 33,
   "metadata": {},
   "outputs": [
    {
     "name": "stdout",
     "output_type": "stream",
     "text": [
      "Epoch 1/3\n",
      "521/521 [==============================] - 2s 3ms/step - loss: 0.3384 - accuracy: 0.8603\n",
      "Epoch 2/3\n",
      "521/521 [==============================] - 1s 3ms/step - loss: 0.2029 - accuracy: 0.9234\n",
      "Epoch 3/3\n",
      "521/521 [==============================] - 2s 3ms/step - loss: 0.1608 - accuracy: 0.9399\n",
      "261/261 [==============================] - 0s 2ms/step\n",
      "Epoch 1/3\n",
      "521/521 [==============================] - 3s 4ms/step - loss: 0.3423 - accuracy: 0.8589\n",
      "Epoch 2/3\n",
      "521/521 [==============================] - 2s 4ms/step - loss: 0.2039 - accuracy: 0.9238\n",
      "Epoch 3/3\n",
      "521/521 [==============================] - 2s 4ms/step - loss: 0.1598 - accuracy: 0.9432\n",
      "261/261 [==============================] - 0s 2ms/step\n",
      "Epoch 1/3\n",
      "521/521 [==============================] - 2s 3ms/step - loss: 0.3436 - accuracy: 0.8558\n",
      "Epoch 2/3\n",
      "521/521 [==============================] - 2s 3ms/step - loss: 0.2052 - accuracy: 0.9214\n",
      "Epoch 3/3\n",
      "521/521 [==============================] - 2s 3ms/step - loss: 0.1598 - accuracy: 0.9420\n",
      "261/261 [==============================] - 0s 2ms/step\n",
      "Epoch 1/5\n",
      "521/521 [==============================] - 2s 3ms/step - loss: 0.3382 - accuracy: 0.8616\n",
      "Epoch 2/5\n",
      "521/521 [==============================] - 2s 3ms/step - loss: 0.2053 - accuracy: 0.9236\n",
      "Epoch 3/5\n",
      "521/521 [==============================] - 2s 3ms/step - loss: 0.1613 - accuracy: 0.9402\n",
      "Epoch 4/5\n",
      "521/521 [==============================] - 2s 3ms/step - loss: 0.1317 - accuracy: 0.9527\n",
      "Epoch 5/5\n",
      "521/521 [==============================] - 2s 3ms/step - loss: 0.1092 - accuracy: 0.9607\n",
      "261/261 [==============================] - 0s 2ms/step\n",
      "Epoch 1/5\n",
      "521/521 [==============================] - 2s 3ms/step - loss: 0.3415 - accuracy: 0.8574\n",
      "Epoch 2/5\n",
      "521/521 [==============================] - 2s 3ms/step - loss: 0.2048 - accuracy: 0.9229\n",
      "Epoch 3/5\n",
      "521/521 [==============================] - 2s 3ms/step - loss: 0.1586 - accuracy: 0.9442\n",
      "Epoch 4/5\n",
      "521/521 [==============================] - 2s 3ms/step - loss: 0.1293 - accuracy: 0.9542\n",
      "Epoch 5/5\n",
      "521/521 [==============================] - 2s 3ms/step - loss: 0.1079 - accuracy: 0.9639\n",
      "261/261 [==============================] - 0s 2ms/step\n",
      "Epoch 1/5\n",
      "521/521 [==============================] - 2s 3ms/step - loss: 0.3421 - accuracy: 0.8592\n",
      "Epoch 2/5\n",
      "521/521 [==============================] - 2s 3ms/step - loss: 0.2056 - accuracy: 0.9225\n",
      "Epoch 3/5\n",
      "521/521 [==============================] - 2s 3ms/step - loss: 0.1607 - accuracy: 0.9408\n",
      "Epoch 4/5\n",
      "521/521 [==============================] - 2s 3ms/step - loss: 0.1326 - accuracy: 0.9522\n",
      "Epoch 5/5\n",
      "521/521 [==============================] - 2s 3ms/step - loss: 0.1065 - accuracy: 0.9622\n",
      "261/261 [==============================] - 0s 2ms/step\n",
      "Epoch 1/3\n",
      "261/261 [==============================] - 2s 4ms/step - loss: 0.3557 - accuracy: 0.8558\n",
      "Epoch 2/3\n",
      "261/261 [==============================] - 1s 4ms/step - loss: 0.2027 - accuracy: 0.9242\n",
      "Epoch 3/3\n",
      "261/261 [==============================] - 1s 4ms/step - loss: 0.1539 - accuracy: 0.9432\n",
      "131/131 [==============================] - 0s 2ms/step\n",
      "Epoch 1/3\n",
      "261/261 [==============================] - 1s 3ms/step - loss: 0.3626 - accuracy: 0.8490\n",
      "Epoch 2/3\n",
      "261/261 [==============================] - 1s 4ms/step - loss: 0.2032 - accuracy: 0.9236\n",
      "Epoch 3/3\n",
      "261/261 [==============================] - 1s 4ms/step - loss: 0.1565 - accuracy: 0.9435\n",
      "131/131 [==============================] - 0s 2ms/step\n",
      "Epoch 1/3\n",
      "261/261 [==============================] - 1s 3ms/step - loss: 0.3608 - accuracy: 0.8522\n",
      "Epoch 2/3\n",
      "261/261 [==============================] - 1s 3ms/step - loss: 0.2060 - accuracy: 0.9217\n",
      "Epoch 3/3\n",
      "261/261 [==============================] - 1s 3ms/step - loss: 0.1568 - accuracy: 0.9428\n",
      "131/131 [==============================] - 0s 2ms/step\n",
      "Epoch 1/5\n",
      "261/261 [==============================] - 1s 3ms/step - loss: 0.3518 - accuracy: 0.8550\n",
      "Epoch 2/5\n",
      "261/261 [==============================] - 1s 4ms/step - loss: 0.1995 - accuracy: 0.9234\n",
      "Epoch 3/5\n",
      "261/261 [==============================] - 1s 4ms/step - loss: 0.1509 - accuracy: 0.9450\n",
      "Epoch 4/5\n",
      "261/261 [==============================] - 1s 3ms/step - loss: 0.1156 - accuracy: 0.9579\n",
      "Epoch 5/5\n",
      "261/261 [==============================] - 1s 3ms/step - loss: 0.0906 - accuracy: 0.9675\n",
      "131/131 [==============================] - 0s 2ms/step\n",
      "Epoch 1/5\n",
      "261/261 [==============================] - 1s 4ms/step - loss: 0.3642 - accuracy: 0.8517\n",
      "Epoch 2/5\n",
      "261/261 [==============================] - 1s 4ms/step - loss: 0.2047 - accuracy: 0.9226\n",
      "Epoch 3/5\n",
      "261/261 [==============================] - 1s 4ms/step - loss: 0.1566 - accuracy: 0.9449\n",
      "Epoch 4/5\n",
      "261/261 [==============================] - 1s 4ms/step - loss: 0.1238 - accuracy: 0.9574\n",
      "Epoch 5/5\n",
      "261/261 [==============================] - 1s 4ms/step - loss: 0.0956 - accuracy: 0.9680\n",
      "131/131 [==============================] - 0s 2ms/step\n",
      "Epoch 1/5\n",
      "261/261 [==============================] - 1s 3ms/step - loss: 0.3860 - accuracy: 0.8459\n",
      "Epoch 2/5\n",
      "261/261 [==============================] - 1s 4ms/step - loss: 0.2119 - accuracy: 0.9190\n",
      "Epoch 3/5\n",
      "261/261 [==============================] - 1s 4ms/step - loss: 0.1641 - accuracy: 0.9394\n",
      "Epoch 4/5\n",
      "261/261 [==============================] - 1s 4ms/step - loss: 0.1316 - accuracy: 0.9527\n",
      "Epoch 5/5\n",
      "261/261 [==============================] - 1s 4ms/step - loss: 0.1084 - accuracy: 0.9628\n",
      "131/131 [==============================] - 0s 2ms/step\n",
      "Epoch 1/3\n",
      "782/782 [==============================] - 3s 3ms/step - loss: 0.3374 - accuracy: 0.8654\n",
      "Epoch 2/3\n",
      "782/782 [==============================] - 3s 3ms/step - loss: 0.2154 - accuracy: 0.9182\n",
      "Epoch 3/3\n",
      "782/782 [==============================] - 3s 3ms/step - loss: 0.1827 - accuracy: 0.9315\n",
      "Best: 0.886320 using {'batch_size': 32, 'epochs': 3}\n"
     ]
    }
   ],
   "source": [
    "from sklearn.model_selection import GridSearchCV\n",
    "from scikeras.wrappers import KerasClassifier\n",
    "from tensorflow.keras import models\n",
    "# alternatively from scikeras.wrappers import KerasClassifier\n",
    " \n",
    "def create_model():\n",
    "    network = models.Sequential()\n",
    "    network.add(tf.keras.layers.Dense(16, activation='relu', input_shape=(dimension,)))\n",
    "    network.add(tf.keras.layers.Dense(16, activation='leaky_relu'))\n",
    "    network.add(tf.keras.layers.Dense(1, activation='sigmoid'))\n",
    "    \n",
    "    \n",
    "    network.compile(optimizer='rmsprop',\n",
    "                    loss='binary_crossentropy',\n",
    "                    metrics=['accuracy'])\n",
    " \n",
    "    return network\n",
    " \n",
    "model = KerasClassifier(model=create_model)\n",
    " \n",
    "par1_batch = [32, 64]\n",
    "par2_epoch = [3, 5]\n",
    " \n",
    "param_grid = dict(batch_size=par1_batch,\n",
    "                  epochs=par2_epoch\n",
    "                  )\n",
    " \n",
    "grid = GridSearchCV(estimator=model,\n",
    "                    param_grid=param_grid,\n",
    "                    cv = 3\n",
    "                    )\n",
    " \n",
    "grid_results = grid.fit(x_train, y_train)\n",
    " \n",
    "print(\"Best: %f using %s\" % (grid_results.best_score_, grid_results.best_params_))"
   ]
  },
  {
   "cell_type": "markdown",
   "metadata": {},
   "source": [
    "### **Optimisation algorithms from Keras (optional)**\n",
    "One of the latest trends in Deep Learning (first introduced in 2019) is Keras Autotuner. Basically, it follows the same idea as the Scikit-Learn approach described above (`Grid Search`, `Random Search` or other) but is provided by Keras. If you want, you can try it instead of the above. However, you need to have `keras-tuner` installed, which requires Python 3.6+ and TensorFlow 2.0+. If you cannot install new libraries (because for example it is forbidden on classroom PC), continue with the Scikit-learn approach.\n",
    "*[Keras Tuner - Documentation](https://keras.io/keras_tuner/)\n",
    "*[Keras Tuner - Tutorial](https://keras.io/guides/keras_tuner/getting_started/)\n",
    "*[Keras Tuner - training parameters](https://github.com/keras-team/keras-tuner/issues/122)\n",
    "\n",
    "Wrap a model inside a function, with optimised parameters as arguments. In the example below we optimise the number of neurons in a Dense layer."
   ]
  },
  {
   "cell_type": "code",
   "execution_count": 37,
   "metadata": {},
   "outputs": [],
   "source": [
    "def build_model(hp):\n",
    "    network = models.Sequential()\n",
    "    network.add(tf.keras.layers.Dense(units=hp.Int('units', min_value=8, max_value=64, step=8),\n",
    "                                      activation='relu',\n",
    "                                      input_shape=(dimension,)))\n",
    "    network.add(tf.keras.layers.Dense(1, activation='sigmoid'))\n",
    " \n",
    "    network.compile(optimizer=tf.keras.optimizers.Adam(learning_rate=0.01),\n",
    "                    loss='binary_crossentropy',\n",
    "                    metrics=['accuracy'])\n",
    " \n",
    "    return network"
   ]
  },
  {
   "cell_type": "markdown",
   "metadata": {},
   "source": [
    "Set up a Random Search tuner (there are many tuners available) with a model, objective function and max number of iterations. Then run search with all the parameters that you would normally pass to a `fit` function."
   ]
  },
  {
   "cell_type": "code",
   "execution_count": 42,
   "metadata": {},
   "outputs": [
    {
     "name": "stdout",
     "output_type": "stream",
     "text": [
      "Trial 5 Complete [00h 00m 08s]\n",
      "val_loss: 0.31133365631103516\n",
      "\n",
      "Best val_loss So Far: 0.2957024574279785\n",
      "Total elapsed time: 00h 00m 46s\n"
     ]
    }
   ],
   "source": [
    "import kerastuner\n",
    "\n",
    "tuner = kerastuner.RandomSearch(\n",
    "    build_model,\n",
    "    objective='val_loss',\n",
    "    max_trials=5)\n",
    " \n",
    "tuner.search(x_train, y_train, epochs=5, batch_size=128, validation_data=(x_val, y_val))\n",
    "best_model = tuner.get_best_models()[0]"
   ]
  }
 ],
 "metadata": {
  "kernelspec": {
   "display_name": ".venv",
   "language": "python",
   "name": "python3"
  },
  "language_info": {
   "codemirror_mode": {
    "name": "ipython",
    "version": 3
   },
   "file_extension": ".py",
   "mimetype": "text/x-python",
   "name": "python",
   "nbconvert_exporter": "python",
   "pygments_lexer": "ipython3",
   "version": "3.10.12"
  }
 },
 "nbformat": 4,
 "nbformat_minor": 2
}
