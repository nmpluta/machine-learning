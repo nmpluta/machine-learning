{
 "cells": [
  {
   "cell_type": "markdown",
   "metadata": {},
   "source": [
    "# **ConvNet 1 - Introduction, Working with own dataset**\n",
    "\n",
    "## **Part 1 Let's start with Convnet - Mnist dataset**\n",
    "We will use Convnet layers to classify MNIST digits, a task that you have analysed using a densely-connected network (test accuracy was 97.8%).\n",
    "\n",
    "### **Dataset**  \n",
    "Please reuse the code from the second exercise, which has already covered the MNIST database.\n",
    "Change the shape of the training testing images to tensor (60000, 28, 28, 1) and (10000, 28, 28, 1).\n"
   ]
  },
  {
   "cell_type": "code",
   "execution_count": 2,
   "metadata": {},
   "outputs": [
    {
     "name": "stderr",
     "output_type": "stream",
     "text": [
      "2023-11-08 17:39:33.025326: I tensorflow/core/util/port.cc:111] oneDNN custom operations are on. You may see slightly different numerical results due to floating-point round-off errors from different computation orders. To turn them off, set the environment variable `TF_ENABLE_ONEDNN_OPTS=0`.\n",
      "2023-11-08 17:39:33.069797: E tensorflow/compiler/xla/stream_executor/cuda/cuda_dnn.cc:9342] Unable to register cuDNN factory: Attempting to register factory for plugin cuDNN when one has already been registered\n",
      "2023-11-08 17:39:33.069840: E tensorflow/compiler/xla/stream_executor/cuda/cuda_fft.cc:609] Unable to register cuFFT factory: Attempting to register factory for plugin cuFFT when one has already been registered\n",
      "2023-11-08 17:39:33.069872: E tensorflow/compiler/xla/stream_executor/cuda/cuda_blas.cc:1518] Unable to register cuBLAS factory: Attempting to register factory for plugin cuBLAS when one has already been registered\n",
      "2023-11-08 17:39:33.078353: I tensorflow/core/platform/cpu_feature_guard.cc:182] This TensorFlow binary is optimized to use available CPU instructions in performance-critical operations.\n",
      "To enable the following instructions: AVX2 AVX_VNNI FMA, in other operations, rebuild TensorFlow with the appropriate compiler flags.\n",
      "2023-11-08 17:39:34.062665: W tensorflow/compiler/tf2tensorrt/utils/py_utils.cc:38] TF-TRT Warning: Could not find TensorRT\n"
     ]
    },
    {
     "name": "stdout",
     "output_type": "stream",
     "text": [
      "(60000, 28, 28)\n",
      "(10000, 28, 28)\n",
      "(60000, 28, 28, 1)\n",
      "(10000, 28, 28, 1)\n"
     ]
    }
   ],
   "source": [
    "import tensorflow\n",
    "from tensorflow import keras\n",
    "from keras.datasets import mnist\n",
    "from keras.utils import to_categorical\n",
    "\n",
    "\n",
    "traning_shape = (60000, 28, 28, 1)\n",
    "testing_shape = (10000, 28, 28, 1)\n",
    "\n",
    "(train_images, train_labels), (test_images, test_labels) = mnist.load_data()\n",
    "\n",
    "# print the shape of the data\n",
    "print(train_images.shape)\n",
    "print(test_images.shape)\n",
    "\n",
    "# change the shape of the data\n",
    "train_images = train_images.reshape(traning_shape) / 255\n",
    "test_images = test_images.reshape(testing_shape) / 255\n",
    "\n",
    "# print the new shape of the data\n",
    "print(train_images.shape)\n",
    "print(test_images.shape)\n",
    "\n",
    "# cateregorical labels\n",
    "train_labels = to_categorical(train_labels)\n",
    "test_labels = to_categorical(test_labels)"
   ]
  },
  {
   "cell_type": "markdown",
   "metadata": {},
   "source": [
    "### **Convnet architecture**\n",
    "A basic convnet architecture is a a stack of Conv2D and MaxPooling2D layers followed by the classification part.\n",
    "A convnet takes as input tensors of shape (image_height, image_width, image_channels) (not including the batch dimension). In our case, we will configure our convnet to process inputs of size (28, 28, 1), which is the format of MNIST images.\n",
    "\n",
    "Pass the argument input_shape=(28, 28, 1) to our first layer\n",
    "Number of channels is controlled by the first argument passed to each Conv2D layer (here 32 or 64).\n",
    "The filters should have size 3×3.  \n",
    "\n",
    "Layers:\n",
    "```python\n",
    "model.add(layers.Conv2D(nb of filters, (filter size, filter size), activation='relu', input_shape=(image_height, image_width, image_channels)))\n",
    "model.add(layers.MaxPooling2D((filter size, filter size)))\n",
    "```"
   ]
  },
  {
   "cell_type": "markdown",
   "metadata": {},
   "source": [
    "Please implement a ConvNet architecture consisting of 3 Conv2d layers with nb. of channels: 32→64→64. Between the Conv2d should be a MaxPolling2D layer with filter:size 2×2.  \n",
    "Display the architecture:"
   ]
  },
  {
   "cell_type": "code",
   "execution_count": 3,
   "metadata": {},
   "outputs": [
    {
     "name": "stdout",
     "output_type": "stream",
     "text": [
      "Model: \"sequential\"\n",
      "_________________________________________________________________\n",
      " Layer (type)                Output Shape              Param #   \n",
      "=================================================================\n",
      " conv2d (Conv2D)             (None, 26, 26, 32)        320       \n",
      "                                                                 \n",
      " max_pooling2d (MaxPooling2  (None, 13, 13, 32)        0         \n",
      " D)                                                              \n",
      "                                                                 \n",
      " conv2d_1 (Conv2D)           (None, 11, 11, 64)        18496     \n",
      "                                                                 \n",
      " max_pooling2d_1 (MaxPoolin  (None, 5, 5, 64)          0         \n",
      " g2D)                                                            \n",
      "                                                                 \n",
      " conv2d_2 (Conv2D)           (None, 3, 3, 64)          36928     \n",
      "                                                                 \n",
      "=================================================================\n",
      "Total params: 55744 (217.75 KB)\n",
      "Trainable params: 55744 (217.75 KB)\n",
      "Non-trainable params: 0 (0.00 Byte)\n",
      "_________________________________________________________________\n"
     ]
    }
   ],
   "source": [
    "from keras import models\n",
    "from keras import layers\n",
    "\n",
    "# parameters\n",
    "image_height = 28\n",
    "image_width = 28\n",
    "image_channels = 1\n",
    "filter_size_conv = 3\n",
    "filter_size_max_pool = 2\n",
    "\n",
    "model = models.Sequential()\n",
    "model.add(layers.Conv2D(32, (filter_size_conv, filter_size_conv), activation='relu', input_shape=(image_height, image_width, image_channels)))\n",
    "model.add(layers.MaxPooling2D((filter_size_max_pool, filter_size_max_pool)))\n",
    "model.add(layers.Conv2D(64, (filter_size_conv, filter_size_conv), activation='relu'))\n",
    "model.add(layers.MaxPooling2D((filter_size_max_pool, filter_size_max_pool)))\n",
    "model.add(layers.Conv2D(64, (filter_size_conv, filter_size_conv), activation='relu'))\n",
    "\n",
    "model.summary()"
   ]
  },
  {
   "cell_type": "markdown",
   "metadata": {},
   "source": [
    "The next step would be to feed our last output tensor (of shape (3, 3, 64)) into a densely-connected **classifier network**: a stack of Dense layers. These classifiers process vectors, which are 1D, whereas our current output is a 3D tensor. So first, we will have to flatten our 3D outputs to 1D, and then add a few Dense layers on top."
   ]
  },
  {
   "cell_type": "code",
   "execution_count": 4,
   "metadata": {},
   "outputs": [
    {
     "name": "stdout",
     "output_type": "stream",
     "text": [
      "Model: \"sequential\"\n",
      "_________________________________________________________________\n",
      " Layer (type)                Output Shape              Param #   \n",
      "=================================================================\n",
      " conv2d (Conv2D)             (None, 26, 26, 32)        320       \n",
      "                                                                 \n",
      " max_pooling2d (MaxPooling2  (None, 13, 13, 32)        0         \n",
      " D)                                                              \n",
      "                                                                 \n",
      " conv2d_1 (Conv2D)           (None, 11, 11, 64)        18496     \n",
      "                                                                 \n",
      " max_pooling2d_1 (MaxPoolin  (None, 5, 5, 64)          0         \n",
      " g2D)                                                            \n",
      "                                                                 \n",
      " conv2d_2 (Conv2D)           (None, 3, 3, 64)          36928     \n",
      "                                                                 \n",
      " flatten (Flatten)           (None, 576)               0         \n",
      "                                                                 \n",
      " dense (Dense)               (None, 64)                36928     \n",
      "                                                                 \n",
      " dense_1 (Dense)             (None, 10)                650       \n",
      "                                                                 \n",
      "=================================================================\n",
      "Total params: 93322 (364.54 KB)\n",
      "Trainable params: 93322 (364.54 KB)\n",
      "Non-trainable params: 0 (0.00 Byte)\n",
      "_________________________________________________________________\n"
     ]
    }
   ],
   "source": [
    "model.add(layers.Flatten())\n",
    "model.add(layers.Dense(64, activation='relu'))\n",
    "model.add(layers.Dense(10, activation='softmax'))\n",
    "\n",
    "model.summary()"
   ]
  },
  {
   "cell_type": "markdown",
   "metadata": {},
   "source": [
    "### **Training and evaluation**\n",
    "Since we are facing a multi-class classification problem the best loss function to use in this case is categorical_crossentropy. It measures the distance between two probability distributions: in our case, between the probability distribution output by our network, and the true distribution of the labels. By minimizing the distance between these two distributions, we train our network to output something as close as possible to the true labels.\n",
    "\n",
    "Parameters:\n",
    "* rmsprop optimizer\n",
    "* categorical_crossentropy loss function\n",
    "* accuracy metric\n",
    "\n",
    "Fit the model for 5 epochs and batch size 64."
   ]
  },
  {
   "cell_type": "code",
   "execution_count": 5,
   "metadata": {},
   "outputs": [
    {
     "name": "stdout",
     "output_type": "stream",
     "text": [
      "Epoch 1/5\n",
      "938/938 [==============================] - 22s 22ms/step - loss: 0.1793 - accuracy: 0.9435\n",
      "Epoch 2/5\n",
      "938/938 [==============================] - 20s 21ms/step - loss: 0.0500 - accuracy: 0.9844\n",
      "Epoch 3/5\n",
      "938/938 [==============================] - 20s 21ms/step - loss: 0.0324 - accuracy: 0.9899\n",
      "Epoch 4/5\n",
      "938/938 [==============================] - 20s 21ms/step - loss: 0.0244 - accuracy: 0.9920\n",
      "Epoch 5/5\n",
      "938/938 [==============================] - 19s 21ms/step - loss: 0.0197 - accuracy: 0.9938\n"
     ]
    }
   ],
   "source": [
    "model.compile(optimizer='rmsprop', loss='categorical_crossentropy', metrics=['accuracy'])\n",
    "\n",
    "fit = model.fit(train_images, train_labels, epochs=5, batch_size=64)"
   ]
  },
  {
   "cell_type": "markdown",
   "metadata": {},
   "source": [
    "Verify your model on a test set. You should achieve test accuracy of about 0.99  \n",
    "Display the loss and accuracy curves on a plot."
   ]
  },
  {
   "cell_type": "code",
   "execution_count": 6,
   "metadata": {},
   "outputs": [
    {
     "name": "stdout",
     "output_type": "stream",
     "text": [
      "313/313 [==============================] - 2s 7ms/step - loss: 0.0418 - accuracy: 0.9885\n"
     ]
    }
   ],
   "source": [
    "test_loss, test_acc = model.evaluate(test_images, test_labels)\n"
   ]
  },
  {
   "cell_type": "code",
   "execution_count": 7,
   "metadata": {},
   "outputs": [],
   "source": [
    "import matplotlib.pyplot as plt\n",
    "def plot_metric(history_dict, metric):\n",
    "    plt.clf()  # clear figure\n",
    "    loss_values = history_dict[metric]\n",
    "    epochs = range(1, len(loss_values) + 1)\n",
    "    plt.plot(epochs, loss_values, 'go', label=f'Training {metric}')\n",
    "    plt.title(f'Training and validation {metric}')\n",
    "    plt.xlabel('Epochs')\n",
    "    plt.ylabel(metric)\n",
    "    plt.legend()\n",
    "    plt.show()"
   ]
  },
  {
   "cell_type": "code",
   "execution_count": 8,
   "metadata": {},
   "outputs": [
    {
     "data": {
      "image/png": "[encoded data removed]",
      "text/plain": [
       "<Figure size 640x480 with 1 Axes>"
      ]
     },
     "metadata": {},
     "output_type": "display_data"
    },
    {
     "data": {
      "image/png": "[encoded data removed]",
      "text/plain": [
       "<Figure size 640x480 with 1 Axes>"
      ]
     },
     "metadata": {},
     "output_type": "display_data"
    }
   ],
   "source": [
    "fit_dict = fit.history\n",
    "fit_dict.keys()\n",
    "\n",
    "# Display the loss and accuracy curves on a plot.\n",
    "for key in fit_dict.keys():\n",
    "    plt.clf()  # clear figure\n",
    "    values = fit_dict[key]\n",
    "    epochs = range(1, len(values) + 1)\n",
    "    plt.plot(epochs, values, 'go', label=f'Training {key}')\n",
    "    plt.title(f'Training {key}')\n",
    "    plt.xlabel('Epochs')\n",
    "    plt.ylabel(key)\n",
    "    plt.legend()\n",
    "    plt.show()\n"
   ]
  },
  {
   "cell_type": "markdown",
   "metadata": {},
   "source": [
    "## **Part 2 ConvNet for small dataset**\n",
    "Having to train an image classification model using very little data is a common situation, which you’ll likely encounter in practice if you ever do computer vision in a professional context. A “few” samples can mean anywhere from a few hundred to a few tens of thousands of images. As a practical example, we’ll focus on classifying images as dogs or cats, in a dataset containing 4,000 pictures of cats and dogs (2,000 cats, 2,000 dogs). We’ll use 2,000 pictures for training – 1,000 for validation, and 1,000 for testing.\n",
    "\n",
    "### **Dataset**\n",
    "Download the original dataset at https://www.kaggle.com/c/dogs-vs-cats/data (create a Kaggle account if you don't already have one).\n",
    "If you use Google Colab and don't want to download the whole dataset on your computer, you can link a Kaggle account with Colab. For further information see link below: https://www.kaggle.com/general/74235\n",
    "\n",
    "This original dataset contains 25,000 images of dogs and cats (12,500 from each class) and is ~800MB large (compressed). After downloading and uncompressing it, we will create a new dataset containing three subsets: a training set with 1000 samples of each class, a validation set with 500 samples of each class, and finally a test set with 500 samples of each class.\n",
    "As we only need 4000 images, you do not need to download the whole dataset. You can download only train set (~500MB large) or copy the first 4000 images from someone else in the group.\n",
    "\n",
    "After downloading the data, you have to arrange them correctly in the catalogues. Data should be split into separate catalogs for dogs and for cats. You can do it manually or in python (for example using os and shutil libraries).\n",
    "\n",
    "```\n",
    "main_directory/\n",
    "...train/\n",
    "......class_a/\n",
    ".........a_image_1.jpg\n",
    ".........a_image_2.jpg\n",
    "......class_b/\n",
    ".........b_image_1.jpg\n",
    ".........b_image_2.jpg\n",
    "...validation/\n",
    "......class_a/\n",
    ".........a_image_1.jpg\n",
    ".........a_image_2.jpg\n",
    "......class_b/\n",
    ".........b_image_1.jpg\n",
    ".........b_image_2.jpg\n",
    "```\n",
    "\n",
    "Please check the train/validation/test datasets. We now have 2000 training images, then 1000 validation images and 1000 test images (optional). In each split, there is the same number of samples from each class: this is a balanced binary classification problem, which means that classification accuracy will be an appropriate measure of success."
   ]
  },
  {
   "cell_type": "markdown",
   "metadata": {},
   "source": [
    "### **Network architecture**\n",
    "You've already built a small convnet for MNIST in the previous exercise. You will reuse the same general structure: our convnet will be a stack of alternated Conv2D (with relu activation) and MaxPooling2D layers.\n",
    "\n",
    "However, since we are dealing with bigger images and a more complex problem, we will make our network accordingly larger: it will have one more Conv2D + MaxPooling2D stage. This serves both to augment the capacity of the network and to further reduce the size of the feature maps so that they aren't overly large when we reach the Flatten layer. Here, since we start from inputs of size 150×150 (a somewhat arbitrary choice), we end up with feature maps of size 7×7 right before the Flatten layer. Note that the depth of the feature maps is progressively increasing in the network (from 32 to 128), while the size of the feature maps is decreasing (from 148×148 to 7×7). This is a pattern that you will see in almost all convnets. Since we are attacking a binary classification problem, we are ending the network with a single unit (a Dense layer of size 1) and a sigmoid activation. This unit will encode the probability that the network is looking at one class or the other.\n",
    "\n",
    "Please create your network architecture based on the information above (4x Conv2d, 4x Maxpooling layers and then Flatten, 2 x Dense layer).\n"
   ]
  },
  {
   "cell_type": "code",
   "execution_count": 9,
   "metadata": {},
   "outputs": [
    {
     "name": "stdout",
     "output_type": "stream",
     "text": [
      "Model: \"sequential_1\"\n",
      "_________________________________________________________________\n",
      " Layer (type)                Output Shape              Param #   \n",
      "=================================================================\n",
      " rescaling (Rescaling)       (None, 150, 150, 3)       0         \n",
      "                                                                 \n",
      " conv2d_3 (Conv2D)           (None, 148, 148, 32)      896       \n",
      "                                                                 \n",
      " max_pooling2d_2 (MaxPoolin  (None, 74, 74, 32)        0         \n",
      " g2D)                                                            \n",
      "                                                                 \n",
      " conv2d_4 (Conv2D)           (None, 72, 72, 64)        18496     \n",
      "                                                                 \n",
      " max_pooling2d_3 (MaxPoolin  (None, 36, 36, 64)        0         \n",
      " g2D)                                                            \n",
      "                                                                 \n",
      " conv2d_5 (Conv2D)           (None, 34, 34, 128)       73856     \n",
      "                                                                 \n",
      " max_pooling2d_4 (MaxPoolin  (None, 17, 17, 128)       0         \n",
      " g2D)                                                            \n",
      "                                                                 \n",
      " conv2d_6 (Conv2D)           (None, 15, 15, 128)       147584    \n",
      "                                                                 \n",
      " max_pooling2d_5 (MaxPoolin  (None, 7, 7, 128)         0         \n",
      " g2D)                                                            \n",
      "                                                                 \n",
      " flatten_1 (Flatten)         (None, 6272)              0         \n",
      "                                                                 \n",
      " dense_2 (Dense)             (None, 512)               3211776   \n",
      "                                                                 \n",
      " dense_3 (Dense)             (None, 1)                 513       \n",
      "                                                                 \n",
      "=================================================================\n",
      "Total params: 3453121 (13.17 MB)\n",
      "Trainable params: 3453121 (13.17 MB)\n",
      "Non-trainable params: 0 (0.00 Byte)\n",
      "_________________________________________________________________\n"
     ]
    }
   ],
   "source": [
    "new_model = models.Sequential()\n",
    "new_model.add(layers.Rescaling(scale=1./255, input_shape=(150, 150, 3)))\n",
    "new_model.add(layers.Conv2D(32, (3, 3), activation='relu'))\n",
    "new_model.add(layers.MaxPooling2D((2, 2)))\n",
    "new_model.add(layers.Conv2D(64, (3, 3), activation='relu'))\n",
    "new_model.add(layers.MaxPooling2D((2, 2)))\n",
    "new_model.add(layers.Conv2D(128, (3, 3), activation='relu'))\n",
    "new_model.add(layers.MaxPooling2D((2, 2)))\n",
    "new_model.add(layers.Conv2D(128, (3, 3), activation='relu'))\n",
    "new_model.add(layers.MaxPooling2D((2, 2)))\n",
    "new_model.add(layers.Flatten())\n",
    "new_model.add(layers.Dense(512, activation='relu'))\n",
    "new_model.add(layers.Dense(1, activation='sigmoid'))\n",
    "new_model.summary()\n"
   ]
  },
  {
   "cell_type": "markdown",
   "metadata": {},
   "source": [
    "Compilation step:\n",
    "- RMSprop optimizer - with learning rate parameter(lr=1e-4)\n",
    "- Binary crossentropy loss funtion\n",
    "- Accuracy metric"
   ]
  },
  {
   "cell_type": "code",
   "execution_count": 10,
   "metadata": {},
   "outputs": [],
   "source": [
    "learning_rate = 1e-4\n",
    "new_model.compile(optimizer=keras.optimizers.RMSprop(learning_rate=learning_rate),\n",
    "                  loss='binary_crossentropy',\n",
    "                  metrics=['accuracy'])"
   ]
  },
  {
   "cell_type": "markdown",
   "metadata": {},
   "source": [
    "### **Data preprocessing**\n",
    "Data preprocessing steps include the following:\n",
    "- Read the picture files.\n",
    "- Decode the JPEG content to RBG grids of pixels.\n",
    "- Convert these into floating-point tensors.\n",
    "- Rescale the pixel values (between 0 and 255) to the [0, 1] interval (as you know, neural networks prefer to deal with small input values).\n",
    "\n",
    "It may seem a bit daunting, but thankfully Keras has utilities to take care of these steps automatically. It has a module with image processing helper tools, located at tensorflow.keras.preprocessing. In particular, it contains the class ImageDataGenerator (In older version of tensorflow only. It is now replaced by image_dataset_from_directory) which allows to quickly set up Python generators that can automatically turn image files on disk into batches of pre-processed tensors. This is what we will use here. One of the useful properties of ImageDataGenerator is the ability to automatically label data based on which folder they are in. That is why, at the beginning of the exercise, we put dogs and cats into the appropriate folders."
   ]
  },
  {
   "cell_type": "code",
   "execution_count": 11,
   "metadata": {},
   "outputs": [
    {
     "name": "stdout",
     "output_type": "stream",
     "text": [
      "Found 2000 files belonging to 2 classes.\n",
      "Found 1000 files belonging to 2 classes.\n"
     ]
    }
   ],
   "source": [
    "from tensorflow.keras.preprocessing import  image_dataset_from_directory\n",
    "\n",
    "train_dir = 'cats_and_dogs_small/train'\n",
    "train_dataset = image_dataset_from_directory(\n",
    "    train_dir,  # This is the target directory\n",
    "    labels=\"inferred\", \n",
    "    label_mode=\"binary\", # Since we use binary_crossentropy loss, we need binary labels\n",
    "    class_names=None,\n",
    "    color_mode=\"rgb\",\n",
    "    batch_size=20,\n",
    "    image_size=(150,150), # All images have different sizes and will be resized to 150x150\n",
    "    shuffle=True,\n",
    ")\n",
    "\n",
    "validation_dir = 'cats_and_dogs_small/validation'\n",
    "validation_dataset = image_dataset_from_directory(\n",
    "    validation_dir,  # This is the target directory\n",
    "    labels=\"inferred\", \n",
    "    label_mode=\"binary\", # Since we use binary_crossentropy loss, we need binary labels\n",
    "    class_names=None,\n",
    "    color_mode=\"rgb\",\n",
    "    batch_size=20,\n",
    "    image_size=(150,150), # All images have different sizes and will be resized to 150x150\n",
    "    shuffle=True,\n",
    ")"
   ]
  },
  {
   "cell_type": "markdown",
   "metadata": {},
   "source": [
    "Let's fit our model to the dataset. We may pass a validation_data argument."
   ]
  },
  {
   "cell_type": "code",
   "execution_count": 12,
   "metadata": {},
   "outputs": [
    {
     "name": "stdout",
     "output_type": "stream",
     "text": [
      "Epoch 1/30\n",
      "100/100 [==============================] - 24s 237ms/step - loss: 0.6930 - accuracy: 0.5195 - val_loss: 0.6881 - val_accuracy: 0.6100\n",
      "Epoch 2/30\n",
      "100/100 [==============================] - 23s 233ms/step - loss: 0.6828 - accuracy: 0.5555 - val_loss: 0.6720 - val_accuracy: 0.6050\n",
      "Epoch 3/30\n",
      "100/100 [==============================] - 23s 228ms/step - loss: 0.6629 - accuracy: 0.6030 - val_loss: 0.6690 - val_accuracy: 0.5970\n",
      "Epoch 4/30\n",
      "100/100 [==============================] - 22s 222ms/step - loss: 0.6352 - accuracy: 0.6370 - val_loss: 0.6282 - val_accuracy: 0.6420\n",
      "Epoch 5/30\n",
      "100/100 [==============================] - 22s 222ms/step - loss: 0.6045 - accuracy: 0.6790 - val_loss: 0.6244 - val_accuracy: 0.6490\n",
      "Epoch 6/30\n",
      "100/100 [==============================] - 22s 223ms/step - loss: 0.5592 - accuracy: 0.7195 - val_loss: 0.5839 - val_accuracy: 0.6980\n",
      "Epoch 7/30\n",
      "100/100 [==============================] - 22s 222ms/step - loss: 0.5421 - accuracy: 0.7290 - val_loss: 0.5829 - val_accuracy: 0.7000\n",
      "Epoch 8/30\n",
      "100/100 [==============================] - 22s 223ms/step - loss: 0.5155 - accuracy: 0.7490 - val_loss: 0.5893 - val_accuracy: 0.7050\n",
      "Epoch 9/30\n",
      "100/100 [==============================] - 22s 221ms/step - loss: 0.4980 - accuracy: 0.7610 - val_loss: 0.5785 - val_accuracy: 0.7090\n",
      "Epoch 10/30\n",
      "100/100 [==============================] - 22s 223ms/step - loss: 0.4831 - accuracy: 0.7640 - val_loss: 0.5661 - val_accuracy: 0.7200\n",
      "Epoch 11/30\n",
      "100/100 [==============================] - 22s 224ms/step - loss: 0.4586 - accuracy: 0.7845 - val_loss: 0.5365 - val_accuracy: 0.7370\n",
      "Epoch 12/30\n",
      "100/100 [==============================] - 23s 228ms/step - loss: 0.4330 - accuracy: 0.7970 - val_loss: 0.5846 - val_accuracy: 0.7150\n",
      "Epoch 13/30\n",
      "100/100 [==============================] - 23s 233ms/step - loss: 0.4244 - accuracy: 0.7960 - val_loss: 0.5257 - val_accuracy: 0.7560\n",
      "Epoch 14/30\n",
      "100/100 [==============================] - 25s 246ms/step - loss: 0.4007 - accuracy: 0.8130 - val_loss: 0.5445 - val_accuracy: 0.7520\n",
      "Epoch 15/30\n",
      "100/100 [==============================] - 26s 255ms/step - loss: 0.3817 - accuracy: 0.8275 - val_loss: 0.5633 - val_accuracy: 0.7440\n",
      "Epoch 16/30\n",
      "100/100 [==============================] - 26s 262ms/step - loss: 0.3607 - accuracy: 0.8425 - val_loss: 0.5300 - val_accuracy: 0.7680\n",
      "Epoch 17/30\n",
      "100/100 [==============================] - 25s 248ms/step - loss: 0.3376 - accuracy: 0.8560 - val_loss: 0.6305 - val_accuracy: 0.7320\n",
      "Epoch 18/30\n",
      "100/100 [==============================] - 26s 263ms/step - loss: 0.3300 - accuracy: 0.8585 - val_loss: 0.5565 - val_accuracy: 0.7690\n",
      "Epoch 19/30\n",
      "100/100 [==============================] - 24s 240ms/step - loss: 0.3145 - accuracy: 0.8665 - val_loss: 0.5432 - val_accuracy: 0.7700\n",
      "Epoch 20/30\n",
      "100/100 [==============================] - 26s 259ms/step - loss: 0.2948 - accuracy: 0.8705 - val_loss: 0.5779 - val_accuracy: 0.7570\n",
      "Epoch 21/30\n",
      "100/100 [==============================] - 26s 255ms/step - loss: 0.2758 - accuracy: 0.8825 - val_loss: 0.6439 - val_accuracy: 0.7450\n",
      "Epoch 22/30\n",
      "100/100 [==============================] - 24s 240ms/step - loss: 0.2588 - accuracy: 0.8970 - val_loss: 0.6503 - val_accuracy: 0.7520\n",
      "Epoch 23/30\n",
      "100/100 [==============================] - 26s 257ms/step - loss: 0.2391 - accuracy: 0.9090 - val_loss: 0.7529 - val_accuracy: 0.7250\n",
      "Epoch 24/30\n",
      "100/100 [==============================] - 26s 259ms/step - loss: 0.2210 - accuracy: 0.9105 - val_loss: 0.6229 - val_accuracy: 0.7760\n",
      "Epoch 25/30\n",
      "100/100 [==============================] - 23s 232ms/step - loss: 0.2006 - accuracy: 0.9210 - val_loss: 0.8964 - val_accuracy: 0.6960\n",
      "Epoch 26/30\n",
      "100/100 [==============================] - 23s 227ms/step - loss: 0.1886 - accuracy: 0.9265 - val_loss: 0.6707 - val_accuracy: 0.7400\n",
      "Epoch 27/30\n",
      "100/100 [==============================] - 23s 225ms/step - loss: 0.1644 - accuracy: 0.9410 - val_loss: 0.9476 - val_accuracy: 0.7160\n",
      "Epoch 28/30\n",
      "100/100 [==============================] - 23s 225ms/step - loss: 0.1523 - accuracy: 0.9475 - val_loss: 0.8193 - val_accuracy: 0.7180\n",
      "Epoch 29/30\n",
      "100/100 [==============================] - 22s 221ms/step - loss: 0.1385 - accuracy: 0.9545 - val_loss: 0.8666 - val_accuracy: 0.7340\n",
      "Epoch 30/30\n",
      "100/100 [==============================] - 22s 223ms/step - loss: 0.1266 - accuracy: 0.9545 - val_loss: 0.7261 - val_accuracy: 0.7620\n"
     ]
    }
   ],
   "source": [
    "new_fit = new_model.fit(train_dataset, epochs=30, validation_data=validation_dataset)"
   ]
  },
  {
   "cell_type": "markdown",
   "metadata": {},
   "source": [
    "### **Outcome analysis**\n",
    "Plot the loss and accuracy of the model over the training and validation data during training."
   ]
  },
  {
   "cell_type": "code",
   "execution_count": 13,
   "metadata": {},
   "outputs": [
    {
     "data": {
      "text/plain": [
       "dict_keys(['loss', 'accuracy', 'val_loss', 'val_accuracy'])"
      ]
     },
     "execution_count": 13,
     "metadata": {},
     "output_type": "execute_result"
    }
   ],
   "source": [
    "new_dict = new_fit.history\n",
    "new_dict.keys()"
   ]
  },
  {
   "cell_type": "code",
   "execution_count": 14,
   "metadata": {},
   "outputs": [
    {
     "data": {
      "image/png": "[encoded data removed]",
      "text/plain": [
       "<Figure size 640x480 with 1 Axes>"
      ]
     },
     "metadata": {},
     "output_type": "display_data"
    },
    {
     "data": {
      "image/png": "[encoded data removed]",
      "text/plain": [
       "<Figure size 640x480 with 1 Axes>"
      ]
     },
     "metadata": {},
     "output_type": "display_data"
    }
   ],
   "source": [
    "import matplotlib.pyplot as plt\n",
    "\n",
    "def plot_metric(dict, metric):\n",
    "    plt.clf()  # clear figure\n",
    "    loss_values = dict[metric]\n",
    "    val_loss_values = dict[f'val_{metric}']\n",
    "    epochs = range(1, len(loss_values) + 1)\n",
    "    plt.plot(epochs, loss_values, 'go', label=f'Training {metric}')\n",
    "    plt.plot(epochs, val_loss_values, 'bo', label=f'Validation {metric}')\n",
    "    plt.title(f'Training and validation {metric}')\n",
    "    plt.xlabel('Epochs')\n",
    "    plt.ylabel(metric)\n",
    "    plt.legend()\n",
    "    plt.show()\n",
    "\n",
    "plot_metric(new_dict, 'loss')\n",
    "plot_metric(new_dict, 'accuracy')"
   ]
  },
  {
   "cell_type": "markdown",
   "metadata": {},
   "source": [
    "In these plots, you should see that the model is overfitting. Our training accuracy increases linearly over time, until it reaches nearly 100%, while our validation accuracy stalls at 70-72%. Our validation loss reaches its minimum after only five epochs then stalls, while the training loss keeps decreasing linearly until it reaches nearly 0.\n",
    "\n",
    "Because we only have relatively few training samples (2000), overfitting is going to be our number one concern. There are many techniques that can help mitigate overfitting, such as reducing the number of epochs, adding dropout layers dropout, or weight decay (L2 regularization). We will look at them next weeks."
   ]
  }
 ],
 "metadata": {
  "kernelspec": {
   "display_name": ".venv",
   "language": "python",
   "name": "python3"
  },
  "language_info": {
   "codemirror_mode": {
    "name": "ipython",
    "version": 3
   },
   "file_extension": ".py",
   "mimetype": "text/x-python",
   "name": "python",
   "nbconvert_exporter": "python",
   "pygments_lexer": "ipython3",
   "version": "3.10.12"
  }
 },
 "nbformat": 4,
 "nbformat_minor": 2
}
