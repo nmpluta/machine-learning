{
  "cells": [
    {
      "cell_type": "markdown",
      "metadata": {
        "id": "WazHWKElCcBf"
      },
      "source": [
        "**Simple DNN 1 - Getting started**  \n",
        "Before we move to a more sophisticated ex. we will get familiar with Tensorflow and Keras. We will take a look at a first concrete example of a neural network, which makes use of the Python library Keras to learn to classify hand-written digits. The problem we are trying to solve here is to classify grayscale images of handwritten digits (28 pixels by 28 pixels), into their 10 categories (0 to 9). The dataset we will use is the MNIST dataset. It's a set of 60,000 training images, plus 10,000 test images, assembled by the National Institute of Standards and Technology (the NIST in MNIST) in the 1980s. You can think of “solving” MNIST as the “Hello World” of deep learning – it's what you do to verify that your algorithms are working as expected."
      ]
    },
    {
      "cell_type": "code",
      "execution_count": 25,
      "metadata": {},
      "outputs": [],
      "source": [
        "import tensorflow"
      ]
    },
    {
      "cell_type": "code",
      "execution_count": 26,
      "metadata": {
        "id": "lSUF6-tnBCdr"
      },
      "outputs": [],
      "source": [
        "from tensorflow import keras"
      ]
    },
    {
      "cell_type": "markdown",
      "metadata": {
        "id": "-_s96MLtCnBl"
      },
      "source": [
        "The MNIST dataset comes pre-loaded in Keras, in the form of a set of four Numpy arrays:\n",
        "\n"
      ]
    },
    {
      "cell_type": "code",
      "execution_count": 27,
      "metadata": {
        "colab": {
          "base_uri": "https://localhost:8080/"
        },
        "id": "1pQKfTwMCnvF",
        "outputId": "deac05c7-e70c-4728-9899-d2ca905d1614"
      },
      "outputs": [],
      "source": [
        "from keras.datasets import mnist\n",
        "(train_images, train_labels), (test_images, test_labels) = mnist.load_data()"
      ]
    },
    {
      "cell_type": "code",
      "execution_count": 28,
      "metadata": {
        "id": "CyJmrWITDGxM"
      },
      "outputs": [
        {
          "name": "stdout",
          "output_type": "stream",
          "text": [
            "[TRAIN] Number of examples:  60000\n",
            "[TEST]  Number of examples:  10000\n",
            "[TRAIN] Number of labels:  60000\n",
            "[TEST]  Number of labels:  10000\n",
            "[TRAIN] Image size:  (28, 28)\n",
            "[TEST]  Image size:  (28, 28)\n"
          ]
        },
        {
          "data": {
            "image/png": "[encoded data removed]",
            "text/plain": [
              "<Figure size 1000x1000 with 10 Axes>"
            ]
          },
          "metadata": {},
          "output_type": "display_data"
        }
      ],
      "source": [
        "# Task 1 Please check the number of training and testing example.\n",
        "print(\"[TRAIN] Number of examples: \", len(train_images))\n",
        "print(\"[TEST]  Number of examples: \", len(test_images))\n",
        "\n",
        "# Task 2 How many labels do we have?\n",
        "print(\"[TRAIN] Number of labels: \", len(train_labels))\n",
        "print(\"[TEST]  Number of labels: \", len(test_labels))\n",
        "\n",
        "# Task 3 Check the image size and plot few examples\n",
        "print(\"[TRAIN] Image size: \", train_images[0].shape)\n",
        "print(\"[TEST]  Image size: \", test_images[0].shape)\n",
        "\n",
        "import matplotlib.pyplot as plt\n",
        "import numpy as np\n",
        "\n",
        "plt.figure(figsize=(10, 10))\n",
        "for i in range(10):\n",
        "    rand_index = np.random.randint(0, len(train_images))\n",
        "    plt.subplot(4, 5, i+1)\n",
        "    plt.imshow(train_images[rand_index], cmap='gray')\n",
        "    plt.title(\"Label: {}\".format(train_labels[rand_index]))\n",
        "    plt.axis('off')\n",
        "plt.show()"
      ]
    },
    {
      "cell_type": "markdown",
      "metadata": {},
      "source": [
        "**DNN workflow**\n",
        "1. Build the neural network architecture.\n",
        "2. Train our neural network with the training data, train_images and train_labels. The network will then learn to associate images and labels.\n",
        "3. The network will produce predictions for test_images, and we will verify if these predictions match the labels from test_labels.\n",
        "\n",
        "**DNN architecture**\n",
        "1. Our network will consist of a sequence of two Dense layers, which are densely-connected (also called “fully-connected”) neural layers.\n",
        "2. The second (and last) layer is a 10-way “softmax” layer, which means it will return an array of 10 probability scores (summing to 1). Each score will be the probability that the current digit image belongs to one of our 10 digit classes.\n",
        "\n",
        "**DNN training**  \n",
        "To make our network ready for training, we need to pick three more things, as part of the “compilation” step:\n",
        "1. A **loss function**: This is how the network will be able to measure how good a job it is doing on its training data, and thus how it will be able to steer itself in the right direction.\n",
        "2. An **optimizer**: this is the mechanism through which the network will update itself based on the data it sees and its loss function.\n",
        "3. **Metrics**: to monitor during training and testing. Here we will only care about accuracy (the fraction of the images that were correctly classified)."
      ]
    },
    {
      "cell_type": "markdown",
      "metadata": {},
      "source": [
        "**Network architecture**"
      ]
    },
    {
      "cell_type": "code",
      "execution_count": 29,
      "metadata": {},
      "outputs": [],
      "source": [
        "from keras import models\n",
        "from keras import layers\n",
        " \n",
        "network = models.Sequential()\n",
        "network.add(layers.Dense(512, activation='relu', input_shape=(28 * 28,)))\n",
        "network.add(layers.Dense(10, activation='softmax'))"
      ]
    },
    {
      "cell_type": "markdown",
      "metadata": {},
      "source": [
        "**Network Training**  \n",
        "Once the model architecture is defined, the learning process can be configured in the compilation step. We specify the optimizer, loss function, and metrics."
      ]
    },
    {
      "cell_type": "code",
      "execution_count": 30,
      "metadata": {},
      "outputs": [],
      "source": [
        "network.compile(optimizer='rmsprop',\n",
        "                loss='categorical_crossentropy',\n",
        "                metrics=['accuracy'])"
      ]
    },
    {
      "cell_type": "markdown",
      "metadata": {},
      "source": [
        "**Data preparation**  \n",
        "Before training, we will preprocess our data by reshaping it into the shape that the network expects, and scaling it so that all values are in the [0, 1] interval. Our training images are being stored in an array of shape (60000, 28, 28) of type uint8 with values in the [0, 255] interval. Please transform it into a float32 array of shape (60000, 28 * 28) with values between 0 and 1.\n",
        "Necessary functions: reshape and astype.\n",
        "Perform it for both train and test examples."
      ]
    },
    {
      "cell_type": "code",
      "execution_count": 31,
      "metadata": {},
      "outputs": [],
      "source": [
        "#TODO: reshape and transform the data\n",
        "train_images = train_images.reshape((60000, 28 * 28))\n",
        "train_images = train_images.astype('float32') / 255\n",
        "\n",
        "test_images = test_images.reshape((10000, 28 * 28))\n",
        "test_images = test_images.astype('float32') / 255"
      ]
    },
    {
      "cell_type": "markdown",
      "metadata": {},
      "source": [
        "Because of we use categorical_crossentropy loss function we need to convert data format:"
      ]
    },
    {
      "cell_type": "code",
      "execution_count": 32,
      "metadata": {},
      "outputs": [],
      "source": [
        "from keras.utils import to_categorical\n",
        " \n",
        "train_labels = to_categorical(train_labels)\n",
        "test_labels = to_categorical(test_labels)"
      ]
    },
    {
      "cell_type": "markdown",
      "metadata": {},
      "source": [
        "**Fit the model**  \n",
        "To train the network we call the fit method of the network with parameters epochs and batch_size. Set epochs to 5, and batch_size to 128."
      ]
    },
    {
      "cell_type": "code",
      "execution_count": 33,
      "metadata": {},
      "outputs": [
        {
          "name": "stdout",
          "output_type": "stream",
          "text": [
            "Epoch 1/5\n",
            "469/469 [==============================] - 2s 4ms/step - loss: 0.2619 - accuracy: 0.9246\n",
            "Epoch 2/5\n",
            "469/469 [==============================] - 2s 4ms/step - loss: 0.1071 - accuracy: 0.9689\n",
            "Epoch 3/5\n",
            "469/469 [==============================] - 2s 4ms/step - loss: 0.0712 - accuracy: 0.9783\n",
            "Epoch 4/5\n",
            "469/469 [==============================] - 2s 4ms/step - loss: 0.0509 - accuracy: 0.9848\n",
            "Epoch 5/5\n",
            "469/469 [==============================] - 2s 4ms/step - loss: 0.0385 - accuracy: 0.9885\n"
          ]
        }
      ],
      "source": [
        "epoch = 5\n",
        "batch_size = 128\n",
        "\n",
        "#TODO: fit the model\n",
        "model_fit = network.fit(train_images, train_labels, epochs=epoch, batch_size=batch_size)"
      ]
    },
    {
      "cell_type": "markdown",
      "metadata": {},
      "source": [
        "**Network evaluation**  \n",
        "Two quantities are being displayed during training: the “loss” of the network over the training data, and the accuracy of the network over the training data. We quickly reach an accuracy of 0.989 (i.e. 98.9%) on the training data. Now let's check that our model performs well on the test set too:"
      ]
    },
    {
      "cell_type": "code",
      "execution_count": 35,
      "metadata": {},
      "outputs": [
        {
          "name": "stdout",
          "output_type": "stream",
          "text": [
            "313/313 [==============================] - 1s 2ms/step - loss: 0.0628 - accuracy: 0.9809\n",
            "test_acc: 0.98089998960495\n",
            "test_loss: 0.06283566355705261\n"
          ]
        }
      ],
      "source": [
        "test_loss, test_acc = network.evaluate(test_images, test_labels)\n",
        "\n",
        "print('test_acc:', test_acc)\n",
        "print (\"test_loss:\", test_loss)"
      ]
    },
    {
      "cell_type": "markdown",
      "metadata": {},
      "source": [
        "Our test set accuracy turns out to be 98.1% – that's quite a bit lower than the training set accuracy.\n",
        "This gap between training accuracy and test accuracy is an example of “overfitting”, the fact that machine learning models tend to perform worse on new data than on their training data."
      ]
    }
  ],
  "metadata": {
    "colab": {
      "provenance": []
    },
    "kernelspec": {
      "display_name": "Python 3",
      "name": "python3"
    },
    "language_info": {
      "codemirror_mode": {
        "name": "ipython",
        "version": 3
      },
      "file_extension": ".py",
      "mimetype": "text/x-python",
      "name": "python",
      "nbconvert_exporter": "python",
      "pygments_lexer": "ipython3",
      "version": "3.10.12"
    }
  },
  "nbformat": 4,
  "nbformat_minor": 0
}
